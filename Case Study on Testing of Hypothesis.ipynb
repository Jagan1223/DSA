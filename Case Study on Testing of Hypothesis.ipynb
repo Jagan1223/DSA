{
 "cells": [
  {
   "cell_type": "markdown",
   "id": "4aeb6e61",
   "metadata": {},
   "source": [
    "# Case Study on Testing of Hypothesis"
   ]
  },
  {
   "cell_type": "markdown",
   "id": "8fd32847",
   "metadata": {},
   "source": [
    "A company started to invest in digital marketing as a new way of their product promotions.For that they collected data and decided to carry out a study on it.\n",
    "\n",
    "   * The company wishes to clarify whether there is any increase in sales after stepping into digital marketing.\n",
    "   * The company needs to check whether there is any dependency between the features “Region” and “Manager”."
   ]
  },
  {
   "cell_type": "code",
   "execution_count": 1,
   "id": "8bbf6475",
   "metadata": {},
   "outputs": [],
   "source": [
    "import pandas as pd\n",
    "import numpy as np\n",
    "import matplotlib.pyplot as plt\n",
    "import seaborn as sns"
   ]
  },
  {
   "cell_type": "code",
   "execution_count": 2,
   "id": "2dcb1dbd",
   "metadata": {},
   "outputs": [],
   "source": [
    "data= pd.read_csv('Sales_add.csv')"
   ]
  },
  {
   "cell_type": "code",
   "execution_count": 3,
   "id": "cdb08456",
   "metadata": {},
   "outputs": [
    {
     "data": {
      "text/html": [
       "<div>\n",
       "<style scoped>\n",
       "    .dataframe tbody tr th:only-of-type {\n",
       "        vertical-align: middle;\n",
       "    }\n",
       "\n",
       "    .dataframe tbody tr th {\n",
       "        vertical-align: top;\n",
       "    }\n",
       "\n",
       "    .dataframe thead th {\n",
       "        text-align: right;\n",
       "    }\n",
       "</style>\n",
       "<table border=\"1\" class=\"dataframe\">\n",
       "  <thead>\n",
       "    <tr style=\"text-align: right;\">\n",
       "      <th></th>\n",
       "      <th>Month</th>\n",
       "      <th>Region</th>\n",
       "      <th>Manager</th>\n",
       "      <th>Sales_before_digital_add(in $)</th>\n",
       "      <th>Sales_After_digital_add(in $)</th>\n",
       "    </tr>\n",
       "  </thead>\n",
       "  <tbody>\n",
       "    <tr>\n",
       "      <th>0</th>\n",
       "      <td>Month-1</td>\n",
       "      <td>Region - A</td>\n",
       "      <td>Manager - A</td>\n",
       "      <td>132921</td>\n",
       "      <td>270390</td>\n",
       "    </tr>\n",
       "    <tr>\n",
       "      <th>1</th>\n",
       "      <td>Month-2</td>\n",
       "      <td>Region - A</td>\n",
       "      <td>Manager - C</td>\n",
       "      <td>149559</td>\n",
       "      <td>223334</td>\n",
       "    </tr>\n",
       "    <tr>\n",
       "      <th>2</th>\n",
       "      <td>Month-3</td>\n",
       "      <td>Region - B</td>\n",
       "      <td>Manager - A</td>\n",
       "      <td>146278</td>\n",
       "      <td>244243</td>\n",
       "    </tr>\n",
       "    <tr>\n",
       "      <th>3</th>\n",
       "      <td>Month-4</td>\n",
       "      <td>Region - B</td>\n",
       "      <td>Manager - B</td>\n",
       "      <td>152167</td>\n",
       "      <td>231808</td>\n",
       "    </tr>\n",
       "    <tr>\n",
       "      <th>4</th>\n",
       "      <td>Month-5</td>\n",
       "      <td>Region - C</td>\n",
       "      <td>Manager - B</td>\n",
       "      <td>159525</td>\n",
       "      <td>258402</td>\n",
       "    </tr>\n",
       "  </tbody>\n",
       "</table>\n",
       "</div>"
      ],
      "text/plain": [
       "     Month      Region      Manager  Sales_before_digital_add(in $)  \\\n",
       "0  Month-1  Region - A  Manager - A                          132921   \n",
       "1  Month-2  Region - A  Manager - C                          149559   \n",
       "2  Month-3  Region - B  Manager - A                          146278   \n",
       "3  Month-4  Region - B  Manager - B                          152167   \n",
       "4  Month-5  Region - C  Manager - B                          159525   \n",
       "\n",
       "   Sales_After_digital_add(in $)  \n",
       "0                         270390  \n",
       "1                         223334  \n",
       "2                         244243  \n",
       "3                         231808  \n",
       "4                         258402  "
      ]
     },
     "execution_count": 3,
     "metadata": {},
     "output_type": "execute_result"
    }
   ],
   "source": [
    "#descriptive analytics on the dataset\n",
    "data.head()"
   ]
  },
  {
   "cell_type": "code",
   "execution_count": 4,
   "id": "f157e840",
   "metadata": {},
   "outputs": [
    {
     "data": {
      "text/plain": [
       "(22, 5)"
      ]
     },
     "execution_count": 4,
     "metadata": {},
     "output_type": "execute_result"
    }
   ],
   "source": [
    "data.shape"
   ]
  },
  {
   "cell_type": "code",
   "execution_count": 5,
   "id": "ee542bf9",
   "metadata": {},
   "outputs": [
    {
     "name": "stdout",
     "output_type": "stream",
     "text": [
      "<class 'pandas.core.frame.DataFrame'>\n",
      "RangeIndex: 22 entries, 0 to 21\n",
      "Data columns (total 5 columns):\n",
      " #   Column                          Non-Null Count  Dtype \n",
      "---  ------                          --------------  ----- \n",
      " 0   Month                           22 non-null     object\n",
      " 1   Region                          22 non-null     object\n",
      " 2   Manager                         22 non-null     object\n",
      " 3   Sales_before_digital_add(in $)  22 non-null     int64 \n",
      " 4   Sales_After_digital_add(in $)   22 non-null     int64 \n",
      "dtypes: int64(2), object(3)\n",
      "memory usage: 1008.0+ bytes\n"
     ]
    }
   ],
   "source": [
    "data.info()"
   ]
  },
  {
   "cell_type": "code",
   "execution_count": 6,
   "id": "a6303516",
   "metadata": {},
   "outputs": [
    {
     "data": {
      "text/plain": [
       "Month                             0\n",
       "Region                            0\n",
       "Manager                           0\n",
       "Sales_before_digital_add(in $)    0\n",
       "Sales_After_digital_add(in $)     0\n",
       "dtype: int64"
      ]
     },
     "execution_count": 6,
     "metadata": {},
     "output_type": "execute_result"
    }
   ],
   "source": [
    "# Checking null values\n",
    "data.isna().sum()"
   ]
  },
  {
   "cell_type": "code",
   "execution_count": 7,
   "id": "8c84c1a8",
   "metadata": {},
   "outputs": [
    {
     "data": {
      "text/html": [
       "<div>\n",
       "<style scoped>\n",
       "    .dataframe tbody tr th:only-of-type {\n",
       "        vertical-align: middle;\n",
       "    }\n",
       "\n",
       "    .dataframe tbody tr th {\n",
       "        vertical-align: top;\n",
       "    }\n",
       "\n",
       "    .dataframe thead th {\n",
       "        text-align: right;\n",
       "    }\n",
       "</style>\n",
       "<table border=\"1\" class=\"dataframe\">\n",
       "  <thead>\n",
       "    <tr style=\"text-align: right;\">\n",
       "      <th></th>\n",
       "      <th>Sales_before_digital_add(in $)</th>\n",
       "      <th>Sales_After_digital_add(in $)</th>\n",
       "    </tr>\n",
       "  </thead>\n",
       "  <tbody>\n",
       "    <tr>\n",
       "      <th>count</th>\n",
       "      <td>22.000000</td>\n",
       "      <td>22.000000</td>\n",
       "    </tr>\n",
       "    <tr>\n",
       "      <th>mean</th>\n",
       "      <td>149239.954545</td>\n",
       "      <td>231123.727273</td>\n",
       "    </tr>\n",
       "    <tr>\n",
       "      <th>std</th>\n",
       "      <td>14844.042921</td>\n",
       "      <td>25556.777061</td>\n",
       "    </tr>\n",
       "    <tr>\n",
       "      <th>min</th>\n",
       "      <td>130263.000000</td>\n",
       "      <td>187305.000000</td>\n",
       "    </tr>\n",
       "    <tr>\n",
       "      <th>25%</th>\n",
       "      <td>138087.750000</td>\n",
       "      <td>214960.750000</td>\n",
       "    </tr>\n",
       "    <tr>\n",
       "      <th>50%</th>\n",
       "      <td>147444.000000</td>\n",
       "      <td>229986.500000</td>\n",
       "    </tr>\n",
       "    <tr>\n",
       "      <th>75%</th>\n",
       "      <td>157627.500000</td>\n",
       "      <td>250909.000000</td>\n",
       "    </tr>\n",
       "    <tr>\n",
       "      <th>max</th>\n",
       "      <td>178939.000000</td>\n",
       "      <td>276279.000000</td>\n",
       "    </tr>\n",
       "  </tbody>\n",
       "</table>\n",
       "</div>"
      ],
      "text/plain": [
       "       Sales_before_digital_add(in $)  Sales_After_digital_add(in $)\n",
       "count                       22.000000                      22.000000\n",
       "mean                    149239.954545                  231123.727273\n",
       "std                      14844.042921                   25556.777061\n",
       "min                     130263.000000                  187305.000000\n",
       "25%                     138087.750000                  214960.750000\n",
       "50%                     147444.000000                  229986.500000\n",
       "75%                     157627.500000                  250909.000000\n",
       "max                     178939.000000                  276279.000000"
      ]
     },
     "execution_count": 7,
     "metadata": {},
     "output_type": "execute_result"
    }
   ],
   "source": [
    "data.describe()"
   ]
  },
  {
   "cell_type": "code",
   "execution_count": 8,
   "id": "adc2473f",
   "metadata": {},
   "outputs": [
    {
     "data": {
      "text/plain": [
       "Sales_before_digital_add(in $)    0.578033\n",
       "Sales_After_digital_add(in $)    -0.022669\n",
       "dtype: float64"
      ]
     },
     "execution_count": 8,
     "metadata": {},
     "output_type": "execute_result"
    }
   ],
   "source": [
    "data.skew()"
   ]
  },
  {
   "cell_type": "code",
   "execution_count": 9,
   "id": "68f78b13",
   "metadata": {},
   "outputs": [
    {
     "data": {
      "text/plain": [
       "{'whiskers': [<matplotlib.lines.Line2D at 0x36983ad90>,\n",
       "  <matplotlib.lines.Line2D at 0x369853130>],\n",
       " 'caps': [<matplotlib.lines.Line2D at 0x369853490>,\n",
       "  <matplotlib.lines.Line2D at 0x3698537f0>],\n",
       " 'boxes': [<matplotlib.lines.Line2D at 0x36983aa30>],\n",
       " 'medians': [<matplotlib.lines.Line2D at 0x369853b50>],\n",
       " 'fliers': [<matplotlib.lines.Line2D at 0x369853eb0>],\n",
       " 'means': []}"
      ]
     },
     "execution_count": 9,
     "metadata": {},
     "output_type": "execute_result"
    },
    {
     "data": {
      "image/png": "[encoded data removed]",
      "text/plain": [
       "<Figure size 432x288 with 1 Axes>"
      ]
     },
     "metadata": {
      "needs_background": "light"
     },
     "output_type": "display_data"
    }
   ],
   "source": [
    "plt.boxplot(data['Sales_before_digital_add(in $)'],vert=0)"
   ]
  },
  {
   "cell_type": "code",
   "execution_count": 10,
   "id": "aeab7dd7",
   "metadata": {},
   "outputs": [
    {
     "data": {
      "text/plain": [
       "{'whiskers': [<matplotlib.lines.Line2D at 0x36a8f2d60>,\n",
       "  <matplotlib.lines.Line2D at 0x36a901100>],\n",
       " 'caps': [<matplotlib.lines.Line2D at 0x36a901460>,\n",
       "  <matplotlib.lines.Line2D at 0x36a9017c0>],\n",
       " 'boxes': [<matplotlib.lines.Line2D at 0x36a8f2a00>],\n",
       " 'medians': [<matplotlib.lines.Line2D at 0x36a901b20>],\n",
       " 'fliers': [<matplotlib.lines.Line2D at 0x36a901e80>],\n",
       " 'means': []}"
      ]
     },
     "execution_count": 10,
     "metadata": {},
     "output_type": "execute_result"
    },
    {
     "data": {
      "image/png": "[encoded data removed]",
      "text/plain": [
       "<Figure size 432x288 with 1 Axes>"
      ]
     },
     "metadata": {
      "needs_background": "light"
     },
     "output_type": "display_data"
    }
   ],
   "source": [
    "plt.boxplot(data['Sales_After_digital_add(in $)'],vert=0)"
   ]
  },
  {
   "cell_type": "code",
   "execution_count": 11,
   "id": "1d080003",
   "metadata": {},
   "outputs": [
    {
     "data": {
      "text/html": [
       "<div>\n",
       "<style scoped>\n",
       "    .dataframe tbody tr th:only-of-type {\n",
       "        vertical-align: middle;\n",
       "    }\n",
       "\n",
       "    .dataframe tbody tr th {\n",
       "        vertical-align: top;\n",
       "    }\n",
       "\n",
       "    .dataframe thead th {\n",
       "        text-align: right;\n",
       "    }\n",
       "</style>\n",
       "<table border=\"1\" class=\"dataframe\">\n",
       "  <thead>\n",
       "    <tr style=\"text-align: right;\">\n",
       "      <th></th>\n",
       "      <th>Sales_before_digital_add(in $)</th>\n",
       "      <th>Sales_After_digital_add(in $)</th>\n",
       "    </tr>\n",
       "  </thead>\n",
       "  <tbody>\n",
       "    <tr>\n",
       "      <th>Sales_before_digital_add(in $)</th>\n",
       "      <td>1.000000</td>\n",
       "      <td>-0.178668</td>\n",
       "    </tr>\n",
       "    <tr>\n",
       "      <th>Sales_After_digital_add(in $)</th>\n",
       "      <td>-0.178668</td>\n",
       "      <td>1.000000</td>\n",
       "    </tr>\n",
       "  </tbody>\n",
       "</table>\n",
       "</div>"
      ],
      "text/plain": [
       "                                Sales_before_digital_add(in $)  \\\n",
       "Sales_before_digital_add(in $)                        1.000000   \n",
       "Sales_After_digital_add(in $)                        -0.178668   \n",
       "\n",
       "                                Sales_After_digital_add(in $)  \n",
       "Sales_before_digital_add(in $)                      -0.178668  \n",
       "Sales_After_digital_add(in $)                        1.000000  "
      ]
     },
     "execution_count": 11,
     "metadata": {},
     "output_type": "execute_result"
    }
   ],
   "source": [
    "data.corr()"
   ]
  },
  {
   "cell_type": "markdown",
   "id": "3a9ff461",
   "metadata": {},
   "source": [
    "INSIGHTS:\n",
    "\n",
    "   * Correlation b/w sales before and after digital add is very low\n",
    "   * Sales before digital add is positively skewed\n",
    "   * Sales after digital add is slightly negatively skewed"
   ]
  },
  {
   "cell_type": "markdown",
   "id": "5fc221bd",
   "metadata": {},
   "source": [
    "### The company wishes to clarify whether there is any increase in sales after stepping into digital marketing"
   ]
  },
  {
   "cell_type": "markdown",
   "id": "c7dea2bd",
   "metadata": {},
   "source": [
    "Let,\n",
    "\n",
    "   * Null hypothesis(H0) :- There is no increase in sales after stepping into digital marketing.\n",
    "   * Alternative hypothesis(H1) :- There is an increase in sales after stepping into digital marketing.\n",
    "\n",
    "significance level as alpha =0.05\n",
    "\n",
    "   * if p value <0.05,we reject Null hypothesis and accept Alternative hypothesis.\n",
    "   * if p value >0.05, we can accept null hypothesis and reject Alternative hypothesis.\n"
   ]
  },
  {
   "cell_type": "code",
   "execution_count": 12,
   "id": "8a8067ed",
   "metadata": {},
   "outputs": [
    {
     "name": "stdout",
     "output_type": "stream",
     "text": [
      "3.168333502287889e-11\n",
      "p value: 0\n",
      "Reject null hypothesis(H0)-i.e, There is an increase in sales after stepping into digital marketing.\n"
     ]
    }
   ],
   "source": [
    "#calculating p -value using t-test-paired t-test-METHOD 1\n",
    "from scipy import stats\n",
    "ttest,pvalue=stats.ttest_rel(data['Sales_before_digital_add(in $)'],data['Sales_After_digital_add(in $)'],alternative=\"less\")\n",
    "print(pvalue)\n",
    "print(\"p value:\",round(pvalue))\n",
    "\n",
    "# comparing p-value with significant level 0.05\n",
    "if pvalue<0.05:\n",
    "    print(\"Reject null hypothesis(H0)-i.e, There is an increase in sales after stepping into digital marketing.\")\n",
    "else:\n",
    "    print(\"Accept null hypothesis(H0)-i.e, There is no increase in sales after stepping into digital marketing.\")"
   ]
  },
  {
   "cell_type": "code",
   "execution_count": 13,
   "id": "0b3a8d6a",
   "metadata": {},
   "outputs": [
    {
     "name": "stdout",
     "output_type": "stream",
     "text": [
      "p value: 0\n",
      "Reject null hypothesis(H0)-i.e, There is an increase in sales after stepping into digital marketing.\n"
     ]
    }
   ],
   "source": [
    "#Calculating p- value using z test-METHOD-2\n",
    "from statsmodels.stats import weightstats as stests\n",
    "ztest,pvalue=stests.ztest(data['Sales_before_digital_add(in $)'],x2=None,value=156)\n",
    "print('p value:',round(pvalue))\n",
    "\n",
    "# comparing p value with significant level 0.05\n",
    "if pvalue<0.05:\n",
    "    print(\"Reject null hypothesis(H0)-i.e, There is an increase in sales after stepping into digital marketing.\")\n",
    "else:\n",
    "    print(\"Accept null hypothesis(H0)-i.e, There is no increase in sales after stepping into digital marketing.\")"
   ]
  },
  {
   "cell_type": "markdown",
   "id": "f7fdff5a",
   "metadata": {},
   "source": [
    "INSIGHTS:\n",
    "\n",
    "   * p value is less than significance level(0.05), so we can reject null hypothesis.\n",
    "   * We can conclude that there is an increase in sales after stepping into digital marketing.\n",
    "\n"
   ]
  },
  {
   "cell_type": "markdown",
   "id": "ab68cae9",
   "metadata": {},
   "source": [
    "### The company needs to check whether there is any dependency between the features “Region” and “Manager\"."
   ]
  },
  {
   "cell_type": "markdown",
   "id": "2cbce30c",
   "metadata": {},
   "source": [
    "Let,\n",
    "\n",
    "   * Null hypothesis(H0) :- Region and Manager are independent.\n",
    "   * Alternative hypothesis(H1) :- Region and Manager are dependent."
   ]
  },
  {
   "cell_type": "markdown",
   "id": "881b8d04",
   "metadata": {},
   "source": [
    "Checking chi-squared independency between region and manager"
   ]
  },
  {
   "cell_type": "code",
   "execution_count": 14,
   "id": "8ceda411",
   "metadata": {},
   "outputs": [
    {
     "data": {
      "text/plain": [
       "array(['Manager - A', 'Manager - C', 'Manager - B'], dtype=object)"
      ]
     },
     "execution_count": 14,
     "metadata": {},
     "output_type": "execute_result"
    }
   ],
   "source": [
    "data['Manager'].unique()"
   ]
  },
  {
   "cell_type": "code",
   "execution_count": 15,
   "id": "e97e98c3",
   "metadata": {},
   "outputs": [
    {
     "data": {
      "text/plain": [
       "array(['Region - A', 'Region - B', 'Region - C'], dtype=object)"
      ]
     },
     "execution_count": 15,
     "metadata": {},
     "output_type": "execute_result"
    }
   ],
   "source": [
    "data['Region'].unique()"
   ]
  },
  {
   "cell_type": "code",
   "execution_count": 16,
   "id": "9aac5d98",
   "metadata": {},
   "outputs": [],
   "source": [
    "#Defining a dictionary\n",
    "Managernumber={'Manager - A':1, 'Manager - B':2, 'Manager - C':3}\n",
    "regionnumber={'Region - A':1, 'Region - B':2, 'Region - C':3}"
   ]
  },
  {
   "cell_type": "code",
   "execution_count": 17,
   "id": "b3460874",
   "metadata": {},
   "outputs": [
    {
     "data": {
      "text/plain": [
       "[1, 3, 1, 2, 2, 2, 3, 1, 3, 2, 3, 1, 1, 1, 1, 2, 3, 2, 1, 2, 1, 3]"
      ]
     },
     "execution_count": 17,
     "metadata": {},
     "output_type": "execute_result"
    }
   ],
   "source": [
    "man_num=[Managernumber[values] for values in data.Manager]\n",
    "man_num"
   ]
  },
  {
   "cell_type": "code",
   "execution_count": 18,
   "id": "6064b953",
   "metadata": {},
   "outputs": [
    {
     "data": {
      "text/plain": [
       "[1, 1, 2, 2, 3, 1, 3, 1, 2, 3, 2, 1, 2, 1, 3, 1, 1, 3, 2, 1, 2, 1]"
      ]
     },
     "execution_count": 18,
     "metadata": {},
     "output_type": "execute_result"
    }
   ],
   "source": [
    "reg_num=[regionnumber[value] for value in data.Region]\n",
    "reg_num"
   ]
  },
  {
   "cell_type": "code",
   "execution_count": 19,
   "id": "c7a3ea4f",
   "metadata": {},
   "outputs": [
    {
     "data": {
      "text/html": [
       "<div>\n",
       "<style scoped>\n",
       "    .dataframe tbody tr th:only-of-type {\n",
       "        vertical-align: middle;\n",
       "    }\n",
       "\n",
       "    .dataframe tbody tr th {\n",
       "        vertical-align: top;\n",
       "    }\n",
       "\n",
       "    .dataframe thead th {\n",
       "        text-align: right;\n",
       "    }\n",
       "</style>\n",
       "<table border=\"1\" class=\"dataframe\">\n",
       "  <thead>\n",
       "    <tr style=\"text-align: right;\">\n",
       "      <th></th>\n",
       "      <th>man_num</th>\n",
       "      <th>reg_num</th>\n",
       "    </tr>\n",
       "  </thead>\n",
       "  <tbody>\n",
       "    <tr>\n",
       "      <th>0</th>\n",
       "      <td>1</td>\n",
       "      <td>1</td>\n",
       "    </tr>\n",
       "    <tr>\n",
       "      <th>1</th>\n",
       "      <td>3</td>\n",
       "      <td>1</td>\n",
       "    </tr>\n",
       "    <tr>\n",
       "      <th>2</th>\n",
       "      <td>1</td>\n",
       "      <td>2</td>\n",
       "    </tr>\n",
       "    <tr>\n",
       "      <th>3</th>\n",
       "      <td>2</td>\n",
       "      <td>2</td>\n",
       "    </tr>\n",
       "    <tr>\n",
       "      <th>4</th>\n",
       "      <td>2</td>\n",
       "      <td>3</td>\n",
       "    </tr>\n",
       "  </tbody>\n",
       "</table>\n",
       "</div>"
      ],
      "text/plain": [
       "   man_num  reg_num\n",
       "0        1        1\n",
       "1        3        1\n",
       "2        1        2\n",
       "3        2        2\n",
       "4        2        3"
      ]
     },
     "execution_count": 19,
     "metadata": {},
     "output_type": "execute_result"
    }
   ],
   "source": [
    "#create a dataframe using the list man_num and reg_num\n",
    "data_1=pd.DataFrame(list(zip(man_num,reg_num)),columns=['man_num','reg_num'])\n",
    "data_1.head()"
   ]
  },
  {
   "cell_type": "code",
   "execution_count": 20,
   "id": "fa939a38",
   "metadata": {},
   "outputs": [
    {
     "name": "stdout",
     "output_type": "stream",
     "text": [
      "stat=7.288, p=0.998\n",
      "The features “Region” and “Manager\" are independent\n"
     ]
    }
   ],
   "source": [
    "#Calculating p- value using chi-Squared test-METHOD 1\n",
    "from scipy.stats import chi2_contingency\n",
    "stat,p,dof,expected=chi2_contingency(data_1)\n",
    "print('stat=%.3f, p=%.3f' % (stat,p))\n",
    "\n",
    "# comparing p value with significant level 0.05\n",
    "if p<0.05: \n",
    "    print('The features “Region” and “Manager\" are dependent')\n",
    "else:\n",
    "    print('The features “Region” and “Manager\" are independent')"
   ]
  },
  {
   "cell_type": "code",
   "execution_count": 21,
   "id": "ac7d886c",
   "metadata": {},
   "outputs": [
    {
     "data": {
      "text/html": [
       "<div>\n",
       "<style scoped>\n",
       "    .dataframe tbody tr th:only-of-type {\n",
       "        vertical-align: middle;\n",
       "    }\n",
       "\n",
       "    .dataframe tbody tr th {\n",
       "        vertical-align: top;\n",
       "    }\n",
       "\n",
       "    .dataframe thead th {\n",
       "        text-align: right;\n",
       "    }\n",
       "</style>\n",
       "<table border=\"1\" class=\"dataframe\">\n",
       "  <thead>\n",
       "    <tr style=\"text-align: right;\">\n",
       "      <th>Manager</th>\n",
       "      <th>Manager - A</th>\n",
       "      <th>Manager - B</th>\n",
       "      <th>Manager - C</th>\n",
       "    </tr>\n",
       "    <tr>\n",
       "      <th>Region</th>\n",
       "      <th></th>\n",
       "      <th></th>\n",
       "      <th></th>\n",
       "    </tr>\n",
       "  </thead>\n",
       "  <tbody>\n",
       "    <tr>\n",
       "      <th>Region - A</th>\n",
       "      <td>4</td>\n",
       "      <td>3</td>\n",
       "      <td>3</td>\n",
       "    </tr>\n",
       "    <tr>\n",
       "      <th>Region - B</th>\n",
       "      <td>4</td>\n",
       "      <td>1</td>\n",
       "      <td>2</td>\n",
       "    </tr>\n",
       "    <tr>\n",
       "      <th>Region - C</th>\n",
       "      <td>1</td>\n",
       "      <td>3</td>\n",
       "      <td>1</td>\n",
       "    </tr>\n",
       "  </tbody>\n",
       "</table>\n",
       "</div>"
      ],
      "text/plain": [
       "Manager     Manager - A  Manager - B  Manager - C\n",
       "Region                                           \n",
       "Region - A            4            3            3\n",
       "Region - B            4            1            2\n",
       "Region - C            1            3            1"
      ]
     },
     "execution_count": 21,
     "metadata": {},
     "output_type": "execute_result"
    }
   ],
   "source": [
    "#contigency table between region and manager-METHOD 2\n",
    "data_2=pd.crosstab(data.Region,data.Manager)\n",
    "data_2"
   ]
  },
  {
   "cell_type": "code",
   "execution_count": 22,
   "id": "d7b49de3",
   "metadata": {},
   "outputs": [],
   "source": [
    "from scipy.stats import chi2_contingency\n",
    "chi,p,dof,expected=chi2_contingency(data_2)"
   ]
  },
  {
   "cell_type": "code",
   "execution_count": 23,
   "id": "f908c7b5",
   "metadata": {},
   "outputs": [
    {
     "name": "stdout",
     "output_type": "stream",
     "text": [
      "chi-square value:  3.050566893424036\n",
      "degree of fredom:  4\n",
      "p value:  0.5493991051158094\n",
      "expected output:  [[4.09090909 3.18181818 2.72727273]\n",
      " [2.86363636 2.22727273 1.90909091]\n",
      " [2.04545455 1.59090909 1.36363636]]\n"
     ]
    }
   ],
   "source": [
    "print('chi-square value: ',chi)\n",
    "print('degree of fredom: ',dof)\n",
    "print('p value: ',p)\n",
    "print('expected output: ',expected)"
   ]
  },
  {
   "cell_type": "code",
   "execution_count": 24,
   "id": "b97c3a6f",
   "metadata": {},
   "outputs": [
    {
     "name": "stdout",
     "output_type": "stream",
     "text": [
      "The features “Region” and “Manager\" are independent\n"
     ]
    }
   ],
   "source": [
    "#comparing p value with significant level 0.05\n",
    "if p<0.05: \n",
    "    print('The features “Region” and “Manager\" are dependent')\n",
    "else:\n",
    "    print('The features “Region” and “Manager\" are independent')"
   ]
  },
  {
   "cell_type": "code",
   "execution_count": null,
   "id": "95297eb6",
   "metadata": {},
   "outputs": [],
   "source": []
  }
 ],
 "metadata": {
  "kernelspec": {
   "display_name": "Python 3",
   "language": "python",
   "name": "python3"
  },
  "language_info": {
   "codemirror_mode": {
    "name": "ipython",
    "version": 3
   },
   "file_extension": ".py",
   "mimetype": "text/x-python",
   "name": "python",
   "nbconvert_exporter": "python",
   "pygments_lexer": "ipython3",
   "version": "3.8.8"
  }
 },
 "nbformat": 4,
 "nbformat_minor": 5
}
