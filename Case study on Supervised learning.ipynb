{
 "cells": [
  {
   "cell_type": "markdown",
   "id": "1b24b764",
   "metadata": {},
   "source": [
    "Case study on Supervised learning Do the following in the iris dataset.\n",
    "\n",
    "   1. Read the dataset to the python environment.\n",
    "   2. Do necessary pre-processing steps.\n",
    "   3. Find out which classification model gives the best result to predict iris species.(also do random forest algorithm)\n",
    "\n"
   ]
  },
  {
   "cell_type": "code",
   "execution_count": null,
   "id": "fea71b8e",
   "metadata": {},
   "outputs": [],
   "source": []
  }
 ],
 "metadata": {
  "kernelspec": {
   "display_name": "Python 3",
   "language": "python",
   "name": "python3"
  },
  "language_info": {
   "codemirror_mode": {
    "name": "ipython",
    "version": 3
   },
   "file_extension": ".py",
   "mimetype": "text/x-python",
   "name": "python",
   "nbconvert_exporter": "python",
   "pygments_lexer": "ipython3",
   "version": "3.8.8"
  }
 },
 "nbformat": 4,
 "nbformat_minor": 5
}
