{
 "cells": [
  {
   "cell_type": "code",
   "execution_count": 156,
   "id": "a70b01ac",
   "metadata": {},
   "outputs": [],
   "source": [
    "import numpy as np\n",
    "import pandas as pd"
   ]
  },
  {
   "cell_type": "code",
   "execution_count": 157,
   "id": "5274d221",
   "metadata": {},
   "outputs": [],
   "source": [
    "data=pd.read_excel('Dataset_w6.xlsx')"
   ]
  },
  {
   "cell_type": "code",
   "execution_count": 5,
   "id": "6cc1a932",
   "metadata": {},
   "outputs": [
    {
     "data": {
      "text/html": [
       "<div>\n",
       "<style scoped>\n",
       "    .dataframe tbody tr th:only-of-type {\n",
       "        vertical-align: middle;\n",
       "    }\n",
       "\n",
       "    .dataframe tbody tr th {\n",
       "        vertical-align: top;\n",
       "    }\n",
       "\n",
       "    .dataframe thead th {\n",
       "        text-align: right;\n",
       "    }\n",
       "</style>\n",
       "<table border=\"1\" class=\"dataframe\">\n",
       "  <thead>\n",
       "    <tr style=\"text-align: right;\">\n",
       "      <th></th>\n",
       "      <th>country</th>\n",
       "      <th>Region</th>\n",
       "      <th>Surface area (km2)</th>\n",
       "      <th>Population in thousands (2017)</th>\n",
       "      <th>GDP per capita (current US$)</th>\n",
       "      <th>Agricultural production index</th>\n",
       "      <th>International trade: Imports (million US$)</th>\n",
       "    </tr>\n",
       "  </thead>\n",
       "  <tbody>\n",
       "    <tr>\n",
       "      <th>0</th>\n",
       "      <td>Afghanistan</td>\n",
       "      <td>SouthernAsia</td>\n",
       "      <td>652864</td>\n",
       "      <td>35530</td>\n",
       "      <td>623.2</td>\n",
       "      <td>125</td>\n",
       "      <td>3568</td>\n",
       "    </tr>\n",
       "    <tr>\n",
       "      <th>1</th>\n",
       "      <td>Albania</td>\n",
       "      <td>SouthernEurope</td>\n",
       "      <td>28748</td>\n",
       "      <td>2930</td>\n",
       "      <td>3984.2</td>\n",
       "      <td>134</td>\n",
       "      <td>4669</td>\n",
       "    </tr>\n",
       "    <tr>\n",
       "      <th>2</th>\n",
       "      <td>Algeria</td>\n",
       "      <td>NorthernAfrica</td>\n",
       "      <td>2381741</td>\n",
       "      <td>41318</td>\n",
       "      <td>4154.1</td>\n",
       "      <td>160</td>\n",
       "      <td>47091</td>\n",
       "    </tr>\n",
       "    <tr>\n",
       "      <th>3</th>\n",
       "      <td>Angola</td>\n",
       "      <td>MiddleAfrica</td>\n",
       "      <td>1246700</td>\n",
       "      <td>29784</td>\n",
       "      <td>4714.1</td>\n",
       "      <td>175</td>\n",
       "      <td>8790</td>\n",
       "    </tr>\n",
       "    <tr>\n",
       "      <th>4</th>\n",
       "      <td>Antigua and Barbuda</td>\n",
       "      <td>Caribbean</td>\n",
       "      <td>442</td>\n",
       "      <td>102</td>\n",
       "      <td>14764.5</td>\n",
       "      <td>88</td>\n",
       "      <td>491</td>\n",
       "    </tr>\n",
       "  </tbody>\n",
       "</table>\n",
       "</div>"
      ],
      "text/plain": [
       "               country          Region  Surface area (km2)  \\\n",
       "0          Afghanistan    SouthernAsia              652864   \n",
       "1              Albania  SouthernEurope               28748   \n",
       "2              Algeria  NorthernAfrica             2381741   \n",
       "3               Angola    MiddleAfrica             1246700   \n",
       "4  Antigua and Barbuda       Caribbean                 442   \n",
       "\n",
       "   Population in thousands (2017)  GDP per capita (current US$)  \\\n",
       "0                           35530                         623.2   \n",
       "1                            2930                        3984.2   \n",
       "2                           41318                        4154.1   \n",
       "3                           29784                        4714.1   \n",
       "4                             102                       14764.5   \n",
       "\n",
       "   Agricultural production index   International trade: Imports (million US$)  \n",
       "0                             125                                        3568  \n",
       "1                             134                                        4669  \n",
       "2                             160                                       47091  \n",
       "3                             175                                        8790  \n",
       "4                              88                                         491  "
      ]
     },
     "execution_count": 5,
     "metadata": {},
     "output_type": "execute_result"
    }
   ],
   "source": [
    "data.head()"
   ]
  },
  {
   "cell_type": "markdown",
   "id": "76a0cafd",
   "metadata": {},
   "source": [
    "# 1. Find out how many countries are there in the dataset."
   ]
  },
  {
   "cell_type": "code",
   "execution_count": 86,
   "id": "2bb93ef0",
   "metadata": {},
   "outputs": [
    {
     "data": {
      "text/plain": [
       "196"
      ]
     },
     "execution_count": 86,
     "metadata": {},
     "output_type": "execute_result"
    }
   ],
   "source": [
    "len(data['country'].value_counts())"
   ]
  },
  {
   "cell_type": "markdown",
   "id": "75b01231",
   "metadata": {},
   "source": [
    "There are 196 countries in the data set"
   ]
  },
  {
   "cell_type": "markdown",
   "id": "fbb0003c",
   "metadata": {},
   "source": [
    "# 3. Find out how many countries with respect to the region are available in the dataset."
   ]
  },
  {
   "cell_type": "code",
   "execution_count": 90,
   "id": "f3889528",
   "metadata": {},
   "outputs": [
    {
     "data": {
      "text/plain": [
       "WesternAsia          18\n",
       "EasternAfrica        17\n",
       "Caribbean            16\n",
       "WesternAfrica        15\n",
       "SouthernEurope       12\n",
       "SouthAmerica         12\n",
       "South-easternAsia    11\n",
       "EasternEurope        10\n",
       "NorthernEurope       10\n",
       "MiddleAfrica          9\n",
       "SouthernAsia          9\n",
       "CentralAmerica        8\n",
       "EasternAsia           7\n",
       "WesternEurope         7\n",
       "SouthernAfrica        5\n",
       "NorthernAfrica        5\n",
       "Melanesia             5\n",
       "Polynesia             5\n",
       "CentralAsia           5\n",
       "NorthernAmerica       4\n",
       "Micronesia            4\n",
       "Oceania               2\n",
       "Name: Region, dtype: int64"
      ]
     },
     "execution_count": 90,
     "metadata": {},
     "output_type": "execute_result"
    }
   ],
   "source": [
    "dat=data['Region'].value_counts()\n",
    "dat"
   ]
  },
  {
   "cell_type": "markdown",
   "id": "8a24b7ca",
   "metadata": {},
   "source": [
    "This is the number of countries in each of the regions"
   ]
  },
  {
   "cell_type": "markdown",
   "id": "56ddacac",
   "metadata": {},
   "source": [
    "# 4. On average which region has the highest"
   ]
  },
  {
   "cell_type": "markdown",
   "id": "e1553bb9",
   "metadata": {},
   "source": [
    "### a. GDP per capita (current US$)"
   ]
  },
  {
   "cell_type": "code",
   "execution_count": 164,
   "id": "1752ce06",
   "metadata": {},
   "outputs": [
    {
     "name": "stdout",
     "output_type": "stream",
     "text": [
      "NorthernAmerica Region has the highest average GDP per capita of 57659.0\n"
     ]
    }
   ],
   "source": [
    "def filt(c):\n",
    "    ft=data['Region']==c\n",
    "    dac=data.loc[ft,'GDP per capita (current US$)']\n",
    "    avg= (sum(dac))/(len(dac))\n",
    "    return avg\n",
    "prev_avg=0\n",
    "for i in (dat.index):\n",
    "    k=filt(i)\n",
    "    if(k>prev_avg):\n",
    "        j=i\n",
    "        av=filt(i)\n",
    "        prev_avg=k\n",
    "print(j,'Region has the highest average GDP per capita of',av)\n"
   ]
  },
  {
   "cell_type": "markdown",
   "id": "c222c50f",
   "metadata": {},
   "source": [
    "### b. International trade: Imports (million US$)"
   ]
  },
  {
   "cell_type": "code",
   "execution_count": 169,
   "id": "1ccceba6",
   "metadata": {},
   "outputs": [
    {
     "name": "stdout",
     "output_type": "stream",
     "text": [
      "NorthernAmerica Region has the highest average International trade: Imports of 663552.25 million US$\n"
     ]
    }
   ],
   "source": [
    "def filt(c):\n",
    "    ft=data['Region']==c\n",
    "    dac=data.loc[ft,'International trade: Imports (million US$)']\n",
    "    avg= (sum(dac))/(len(dac))\n",
    "    return avg\n",
    "prev_avg=0\n",
    "for i in (dat.index):\n",
    "    k=filt(i)\n",
    "    if(k>prev_avg):\n",
    "        j=i\n",
    "        av=k\n",
    "        prev_avg=k\n",
    "print(j,'Region has the highest average International trade: Imports of',av,'million US$')\n"
   ]
  },
  {
   "cell_type": "markdown",
   "id": "d3f4c7d5",
   "metadata": {},
   "source": [
    "# 5. Find out which region has more consistent with respect to GDP per capita (current US$)"
   ]
  },
  {
   "cell_type": "code",
   "execution_count": 168,
   "id": "c16e7c04",
   "metadata": {},
   "outputs": [
    {
     "name": "stdout",
     "output_type": "stream",
     "text": [
      "WesternAfrica Region is more consistent with respect to GDP per capita\n"
     ]
    }
   ],
   "source": [
    "def filt(c):\n",
    "    ft=data['Region']==c\n",
    "    dac=data.loc[ft,'GDP per capita (current US$)']\n",
    "    dev= np.std(dac)\n",
    "    return dev\n",
    "prev_dev=10000\n",
    "for i in (dat.index):\n",
    "    k=filt(i)\n",
    "    if(k<prev_dev):\n",
    "        j=i\n",
    "        prev_dev=k\n",
    "print(j,'Region is more consistent with respect to GDP per capita')\n"
   ]
  },
  {
   "cell_type": "code",
   "execution_count": null,
   "id": "5711648b",
   "metadata": {},
   "outputs": [],
   "source": []
  }
 ],
 "metadata": {
  "kernelspec": {
   "display_name": "Python 3",
   "language": "python",
   "name": "python3"
  },
  "language_info": {
   "codemirror_mode": {
    "name": "ipython",
    "version": 3
   },
   "file_extension": ".py",
   "mimetype": "text/x-python",
   "name": "python",
   "nbconvert_exporter": "python",
   "pygments_lexer": "ipython3",
   "version": "3.8.8"
  }
 },
 "nbformat": 4,
 "nbformat_minor": 5
}
